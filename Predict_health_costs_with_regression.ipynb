{
  "cells": [
    {
      "cell_type": "code",
      "execution_count": null,
      "metadata": {
        "id": "1rRo8oNqZ-Rj"
      },
      "outputs": [],
      "source": [
        "# Import libraries. You may or may not use all of these.\n",
        "!pip install -q git+https://github.com/tensorflow/docs\n",
        "import matplotlib.pyplot as plt\n",
        "import numpy as np\n",
        "import pandas as pd\n",
        "\n",
        "try:\n",
        "  # %tensorflow_version only exists in Colab.\n",
        "  %tensorflow_version 2.x\n",
        "except Exception:\n",
        "  pass\n",
        "import tensorflow as tf\n",
        "\n",
        "from tensorflow import keras\n",
        "from tensorflow.keras import layers\n",
        "\n",
        "import tensorflow_docs as tfdocs\n",
        "import tensorflow_docs.plots\n",
        "import tensorflow_docs.modeling"
      ]
    },
    {
      "cell_type": "code",
      "execution_count": null,
      "metadata": {
        "id": "CiX2FI4gZtTt"
      },
      "outputs": [],
      "source": [
        "# Import data\n",
        "!wget https://cdn.freecodecamp.org/project-data/health-costs/insurance.csv\n",
        "dataset = pd.read_csv('insurance.csv')\n",
        "dataset.tail()"
      ]
    },
    {
      "cell_type": "code",
      "source": [
        "# Data Preprocessing\n",
        "\n",
        "categorical_columns = ['sex', 'smoker', 'region']\n",
        "for column in categorical_columns:\n",
        "    print(f\"\\n{column} unique values:\")\n",
        "    print(dataset[column].unique())\n",
        "\n",
        "dataset_encoded = pd.get_dummies(dataset, columns=['sex', 'region'], drop_first=True)\n",
        "dataset_encoded['smoker'] = dataset_encoded['smoker'].map({'yes': 1, 'no': 0})\n",
        "\n",
        "print(\"\\nEncoded dataset sample:\")\n",
        "print(dataset_encoded.head())"
      ],
      "metadata": {
        "id": "v-r9BtmHSOeP"
      },
      "execution_count": null,
      "outputs": []
    },
    {
      "cell_type": "code",
      "source": [
        "# Normalize the numerical features\n",
        "numeric_features = ['age', 'bmi', 'children']\n",
        "feature_mean = dataset_encoded[numeric_features].mean()\n",
        "feature_std = dataset_encoded[numeric_features].std()\n",
        "dataset_encoded[numeric_features] = (dataset_encoded[numeric_features] - feature_mean) / feature_std"
      ],
      "metadata": {
        "id": "HUok6d3cSRjH"
      },
      "execution_count": null,
      "outputs": []
    },
    {
      "cell_type": "code",
      "source": [
        "train_dataset = dataset_encoded.sample(frac=0.8, random_state=0)\n",
        "test_dataset = dataset_encoded.drop(train_dataset.index)\n",
        "\n",
        "train_labels = train_dataset.pop('expenses')\n",
        "test_labels = test_dataset.pop('expenses')\n",
        "\n",
        "print(\"Training set shape:\", train_dataset.shape)\n",
        "print(\"Testing set shape:\", test_dataset.shape)"
      ],
      "metadata": {
        "id": "R447XTfSSTZI"
      },
      "execution_count": null,
      "outputs": []
    },
    {
      "cell_type": "code",
      "source": [
        "def build_model():\n",
        "    model = keras.Sequential([\n",
        "        layers.Dense(64, activation='relu', input_shape=[len(train_dataset.columns)]),\n",
        "        layers.Dense(32, activation='relu'),\n",
        "        layers.Dense(16, activation='relu'),\n",
        "        layers.Dense(1)\n",
        "    ])\n",
        "\n",
        "    optimizer = tf.keras.optimizers.RMSprop(learning_rate=0.01)\n",
        "\n",
        "    model.compile(loss='mse',\n",
        "                  optimizer=optimizer,\n",
        "                  metrics=['mae', 'mse'])\n",
        "    return model\n",
        "\n",
        "model = build_model()\n",
        "model.summary()"
      ],
      "metadata": {
        "id": "HxheJBhYSZQ3"
      },
      "execution_count": null,
      "outputs": []
    },
    {
      "cell_type": "code",
      "source": [
        "early_stop = keras.callbacks.EarlyStopping(monitor='val_loss', patience=10)\n",
        "\n",
        "history = model.fit(\n",
        "    train_dataset, train_labels,\n",
        "    epochs=100,\n",
        "    validation_split=0.2,\n",
        "    verbose=1,\n",
        "    callbacks=[early_stop, tfdocs.modeling.EpochDots()])\n",
        "\n",
        "hist = pd.DataFrame(history.history)\n",
        "hist['epoch'] = history.epoch\n",
        "print(hist.tail())"
      ],
      "metadata": {
        "id": "NPoTqC9vSbzu"
      },
      "execution_count": null,
      "outputs": []
    },
    {
      "cell_type": "code",
      "source": [
        "plt.figure(figsize=(12, 6))\n",
        "plt.subplot(1, 2, 1)\n",
        "plt.xlabel('Epoch')\n",
        "plt.ylabel('Mean Abs Error [expenses]')\n",
        "plt.plot(hist['epoch'], hist['mae'],\n",
        "         label='Train Error')\n",
        "plt.plot(hist['epoch'], hist['val_mae'],\n",
        "         label='Val Error')\n",
        "plt.legend()\n",
        "\n",
        "plt.subplot(1, 2, 2)\n",
        "plt.xlabel('Epoch')\n",
        "plt.ylabel('Mean Square Error [expenses^2]')\n",
        "plt.plot(hist['epoch'], hist['mse'],\n",
        "         label='Train Error')\n",
        "plt.plot(hist['epoch'], hist['val_mse'],\n",
        "         label='Val Error')\n",
        "plt.legend()\n",
        "plt.show()\n",
        "\n",
        "loss, mae, mse = model.evaluate(test_dataset, test_labels, verbose=2)\n",
        "print('\\nTesting set Mean Abs Error: {:5.2f} expenses'.format(mae))\n",
        "\n",
        "if mae < 3500:\n",
        "    print(\"Model passes the challenge requirement!\")\n",
        "else:\n",
        "    print(\"Model needs improvement. The MAE should be less than 3500.\")\n",
        "\n",
        "test_predictions = model.predict(test_dataset).flatten()\n",
        "\n",
        "plt.figure(figsize=(10, 10))\n",
        "a = plt.axes(aspect='equal')\n",
        "plt.scatter(test_labels, test_predictions)\n",
        "plt.xlabel('True values (expenses)')\n",
        "plt.ylabel('Predictions (expenses)')\n",
        "lims = [0, 50000]\n",
        "plt.xlim(lims)\n",
        "plt.ylim(lims)\n",
        "_ = plt.plot(lims, lims)\n",
        "plt.title('Predictions vs Actual Values')\n",
        "plt.show()\n",
        "\n",
        "errors = test_predictions - test_labels\n",
        "plt.figure(figsize=(10, 6))\n",
        "plt.hist(errors, bins=50)\n",
        "plt.xlabel('Prediction Error [expenses]')\n",
        "plt.ylabel('Count')\n",
        "plt.title('Prediction Error Distribution')\n",
        "plt.show()\n",
        "\n",
        "print(f\"Mean Absolute Error: ${mae:.2f}\")\n",
        "print(f\"Mean Squared Error: ${mse:.2f}\")\n",
        "print(f\"Root Mean Squared Error: ${np.sqrt(mse):.2f}\")"
      ],
      "metadata": {
        "id": "t-gpCnaZSiQ2"
      },
      "execution_count": null,
      "outputs": []
    },
    {
      "cell_type": "code",
      "execution_count": null,
      "metadata": {
        "id": "Xe7RXH3N3CWU"
      },
      "outputs": [],
      "source": [
        "# RUN THIS CELL TO TEST YOUR MODEL. DO NOT MODIFY CONTENTS.\n",
        "# Test model by checking how well the model generalizes using the test set.\n",
        "loss, mae, mse = model.evaluate(test_dataset, test_labels, verbose=2)\n",
        "\n",
        "print(\"Testing set Mean Abs Error: {:5.2f} expenses\".format(mae))\n",
        "\n",
        "if mae < 3500:\n",
        "  print(\"You passed the challenge. Great job!\")\n",
        "else:\n",
        "  print(\"The Mean Abs Error must be less than 3500. Keep trying.\")\n",
        "\n",
        "# Plot predictions.\n",
        "test_predictions = model.predict(test_dataset).flatten()\n",
        "\n",
        "a = plt.axes(aspect='equal')\n",
        "plt.scatter(test_labels, test_predictions)\n",
        "plt.xlabel('True values (expenses)')\n",
        "plt.ylabel('Predictions (expenses)')\n",
        "lims = [0, 50000]\n",
        "plt.xlim(lims)\n",
        "plt.ylim(lims)\n",
        "_ = plt.plot(lims,lims)\n"
      ]
    }
  ],
  "metadata": {
    "colab": {
      "private_outputs": true,
      "provenance": [],
      "toc_visible": true
    },
    "kernelspec": {
      "display_name": "Python 3",
      "name": "python3"
    }
  },
  "nbformat": 4,
  "nbformat_minor": 0
}